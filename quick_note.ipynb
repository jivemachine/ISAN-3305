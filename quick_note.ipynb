{
 "cells": [
  {
   "cell_type": "markdown",
   "id": "a8a1f994-a39c-4b1d-894e-7461879f47d8",
   "metadata": {},
   "source": [
    "# quick note"
   ]
  },
  {
   "cell_type": "code",
   "execution_count": 11,
   "id": "5caa5279-8b7f-407d-abdb-fc826906bd46",
   "metadata": {},
   "outputs": [],
   "source": [
    "grades = {\n",
    "    \"buffer\": [5],\n",
    "    \"assignments\": [4.25],\n",
    "    \"projects\": [100, 0, 100, 100],\n",
    "    \"exams\": [85, 0, 100, 100],\n",
    "}\n",
    "\n",
    "possible = {\n",
    "    \"buffer\": [5],\n",
    "    \"assignments\": [5],\n",
    "    \"projects\": [100, 100, 100, 100],\n",
    "    \"exams\": [100, 10, 100, 100]\n",
    "}"
   ]
  },
  {
   "cell_type": "code",
   "execution_count": 20,
   "id": "04dd1ac0-dde6-4505-b50f-35f539737c16",
   "metadata": {},
   "outputs": [],
   "source": [
    "for group in grades:\n",
    "    if group == \"assignments\":\n",
    "        for grade in grades[group]:\n",
    "            grades[group] = grade * .5\n",
    "        "
   ]
  },
  {
   "cell_type": "code",
   "execution_count": 21,
   "id": "d93ea612-b5fd-464f-8cc5-1bbe6bb86263",
   "metadata": {},
   "outputs": [
    {
     "ename": "SyntaxError",
     "evalue": "Missing parentheses in call to 'print'. Did you mean print(...)? (398288612.py, line 1)",
     "output_type": "error",
     "traceback": [
      "\u001b[0;36m  Cell \u001b[0;32mIn[21], line 1\u001b[0;36m\u001b[0m\n\u001b[0;31m    print grades\u001b[0m\n\u001b[0m    ^\u001b[0m\n\u001b[0;31mSyntaxError\u001b[0m\u001b[0;31m:\u001b[0m Missing parentheses in call to 'print'. Did you mean print(...)?\n"
     ]
    }
   ],
   "source": [
    "print grades"
   ]
  },
  {
   "cell_type": "code",
   "execution_count": null,
   "id": "0f225e4c-e8a5-4485-8893-6f01cd9c0a2d",
   "metadata": {},
   "outputs": [],
   "source": []
  }
 ],
 "metadata": {
  "kernelspec": {
   "display_name": "Python 3 (ipykernel)",
   "language": "python",
   "name": "python3"
  },
  "language_info": {
   "codemirror_mode": {
    "name": "ipython",
    "version": 3
   },
   "file_extension": ".py",
   "mimetype": "text/x-python",
   "name": "python",
   "nbconvert_exporter": "python",
   "pygments_lexer": "ipython3",
   "version": "3.12.6"
  }
 },
 "nbformat": 4,
 "nbformat_minor": 5
}

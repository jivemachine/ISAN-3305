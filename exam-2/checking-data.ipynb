{
 "cells": [
  {
   "cell_type": "code",
   "execution_count": 2,
   "id": "dc88666a-1347-4637-8fc5-29c84c2c6577",
   "metadata": {},
   "outputs": [
    {
     "name": "stdout",
     "output_type": "stream",
     "text": [
      "Collecting pandas\n",
      "  Using cached pandas-2.2.3-cp312-cp312-macosx_11_0_arm64.whl.metadata (89 kB)\n",
      "Collecting numpy>=1.26.0 (from pandas)\n",
      "  Using cached numpy-2.1.3-cp312-cp312-macosx_14_0_arm64.whl.metadata (62 kB)\n",
      "Requirement already satisfied: python-dateutil>=2.8.2 in /opt/homebrew/Cellar/jupyterlab/4.2.5_1/libexec/lib/python3.12/site-packages (from pandas) (2.9.0.post0)\n",
      "Collecting pytz>=2020.1 (from pandas)\n",
      "  Using cached pytz-2024.2-py2.py3-none-any.whl.metadata (22 kB)\n",
      "Collecting tzdata>=2022.7 (from pandas)\n",
      "  Using cached tzdata-2024.2-py2.py3-none-any.whl.metadata (1.4 kB)\n",
      "Requirement already satisfied: six>=1.5 in /opt/homebrew/Cellar/jupyterlab/4.2.5_1/libexec/lib/python3.12/site-packages (from python-dateutil>=2.8.2->pandas) (1.16.0)\n",
      "Using cached pandas-2.2.3-cp312-cp312-macosx_11_0_arm64.whl (11.4 MB)\n",
      "Using cached numpy-2.1.3-cp312-cp312-macosx_14_0_arm64.whl (5.1 MB)\n",
      "Using cached pytz-2024.2-py2.py3-none-any.whl (508 kB)\n",
      "Using cached tzdata-2024.2-py2.py3-none-any.whl (346 kB)\n",
      "Installing collected packages: pytz, tzdata, numpy, pandas\n",
      "Successfully installed numpy-2.1.3 pandas-2.2.3 pytz-2024.2 tzdata-2024.2\n",
      "\n",
      "\u001b[1m[\u001b[0m\u001b[34;49mnotice\u001b[0m\u001b[1;39;49m]\u001b[0m\u001b[39;49m A new release of pip is available: \u001b[0m\u001b[31;49m24.2\u001b[0m\u001b[39;49m -> \u001b[0m\u001b[32;49m24.3.1\u001b[0m\n",
      "\u001b[1m[\u001b[0m\u001b[34;49mnotice\u001b[0m\u001b[1;39;49m]\u001b[0m\u001b[39;49m To update, run: \u001b[0m\u001b[32;49m/opt/homebrew/Cellar/jupyterlab/4.2.5_1/libexec/bin/python -m pip install --upgrade pip\u001b[0m\n",
      "Note: you may need to restart the kernel to use updated packages.\n"
     ]
    }
   ],
   "source": [
    "pip install pandas"
   ]
  },
  {
   "cell_type": "code",
   "execution_count": 3,
   "id": "f29677eb-be04-4e5b-bd27-b913c69a9c1a",
   "metadata": {},
   "outputs": [],
   "source": [
    "import pandas as pd"
   ]
  },
  {
   "cell_type": "code",
   "execution_count": 7,
   "id": "3f441b35-9676-4c4c-ac17-a57cd7001ac8",
   "metadata": {},
   "outputs": [],
   "source": [
    "df = pd.read_csv('SongMusicData/songSectionDataClean.csv')"
   ]
  },
  {
   "cell_type": "code",
   "execution_count": 8,
   "id": "71bc6156-663d-4cf2-a799-c34a0658e4df",
   "metadata": {},
   "outputs": [
    {
     "data": {
      "text/html": [
       "<div>\n",
       "<style scoped>\n",
       "    .dataframe tbody tr th:only-of-type {\n",
       "        vertical-align: middle;\n",
       "    }\n",
       "\n",
       "    .dataframe tbody tr th {\n",
       "        vertical-align: top;\n",
       "    }\n",
       "\n",
       "    .dataframe thead th {\n",
       "        text-align: right;\n",
       "    }\n",
       "</style>\n",
       "<table border=\"1\" class=\"dataframe\">\n",
       "  <thead>\n",
       "    <tr style=\"text-align: right;\">\n",
       "      <th></th>\n",
       "      <th>X</th>\n",
       "      <th>Unnamed..0</th>\n",
       "      <th>Name</th>\n",
       "      <th>Artist</th>\n",
       "      <th>Section</th>\n",
       "      <th>Progression</th>\n",
       "      <th>EndDifferent</th>\n",
       "      <th>NumSectionChords</th>\n",
       "      <th>nonDiatonicChords</th>\n",
       "      <th>extendedChords</th>\n",
       "    </tr>\n",
       "  </thead>\n",
       "  <tbody>\n",
       "    <tr>\n",
       "      <th>0</th>\n",
       "      <td>0</td>\n",
       "      <td>0</td>\n",
       "      <td>Vertigo</td>\n",
       "      <td>Khalid</td>\n",
       "      <td>Intro</td>\n",
       "      <td>I-VI#-ii-I-v-ii-I</td>\n",
       "      <td>NaN</td>\n",
       "      <td>4</td>\n",
       "      <td>2</td>\n",
       "      <td>0</td>\n",
       "    </tr>\n",
       "    <tr>\n",
       "      <th>1</th>\n",
       "      <td>1</td>\n",
       "      <td>1</td>\n",
       "      <td>Vertigo</td>\n",
       "      <td>Khalid</td>\n",
       "      <td>Verse</td>\n",
       "      <td>VI#-ii-I-v-ii-I</td>\n",
       "      <td>NaN</td>\n",
       "      <td>4</td>\n",
       "      <td>2</td>\n",
       "      <td>0</td>\n",
       "    </tr>\n",
       "    <tr>\n",
       "      <th>2</th>\n",
       "      <td>2</td>\n",
       "      <td>2</td>\n",
       "      <td>Vertigo</td>\n",
       "      <td>Khalid</td>\n",
       "      <td>Pre-Chorus</td>\n",
       "      <td>v-ii-I</td>\n",
       "      <td>NaN</td>\n",
       "      <td>3</td>\n",
       "      <td>1</td>\n",
       "      <td>0</td>\n",
       "    </tr>\n",
       "    <tr>\n",
       "      <th>3</th>\n",
       "      <td>3</td>\n",
       "      <td>3</td>\n",
       "      <td>Vertigo</td>\n",
       "      <td>Khalid</td>\n",
       "      <td>Chorus</td>\n",
       "      <td>I-VI#-ii-I-v-ii-I</td>\n",
       "      <td>NaN</td>\n",
       "      <td>4</td>\n",
       "      <td>2</td>\n",
       "      <td>0</td>\n",
       "    </tr>\n",
       "    <tr>\n",
       "      <th>4</th>\n",
       "      <td>4</td>\n",
       "      <td>4</td>\n",
       "      <td>Vertigo</td>\n",
       "      <td>Khalid</td>\n",
       "      <td>Interlude</td>\n",
       "      <td>I-VI#-ii-I-v-ii-I</td>\n",
       "      <td>NaN</td>\n",
       "      <td>4</td>\n",
       "      <td>2</td>\n",
       "      <td>0</td>\n",
       "    </tr>\n",
       "  </tbody>\n",
       "</table>\n",
       "</div>"
      ],
      "text/plain": [
       "   X  Unnamed..0     Name  Artist     Section        Progression EndDifferent  \\\n",
       "0  0           0  Vertigo  Khalid       Intro  I-VI#-ii-I-v-ii-I          NaN   \n",
       "1  1           1  Vertigo  Khalid      Verse     VI#-ii-I-v-ii-I          NaN   \n",
       "2  2           2  Vertigo  Khalid  Pre-Chorus             v-ii-I          NaN   \n",
       "3  3           3  Vertigo  Khalid      Chorus  I-VI#-ii-I-v-ii-I          NaN   \n",
       "4  4           4  Vertigo  Khalid   Interlude  I-VI#-ii-I-v-ii-I          NaN   \n",
       "\n",
       "   NumSectionChords  nonDiatonicChords  extendedChords  \n",
       "0                 4                  2               0  \n",
       "1                 4                  2               0  \n",
       "2                 3                  1               0  \n",
       "3                 4                  2               0  \n",
       "4                 4                  2               0  "
      ]
     },
     "execution_count": 8,
     "metadata": {},
     "output_type": "execute_result"
    }
   ],
   "source": [
    "df.head()"
   ]
  },
  {
   "cell_type": "code",
   "execution_count": 11,
   "id": "ebdcff76-d24c-4e4d-9450-1e2157e90333",
   "metadata": {},
   "outputs": [
    {
     "name": "stdout",
     "output_type": "stream",
     "text": [
      "<class 'pandas.core.frame.DataFrame'>\n",
      "RangeIndex: 254 entries, 0 to 253\n",
      "Data columns (total 10 columns):\n",
      " #   Column             Non-Null Count  Dtype \n",
      "---  ------             --------------  ----- \n",
      " 0   X                  254 non-null    int64 \n",
      " 1   Unnamed..0         254 non-null    int64 \n",
      " 2   Name               254 non-null    object\n",
      " 3   Artist             254 non-null    object\n",
      " 4   Section            254 non-null    object\n",
      " 5   Progression        254 non-null    object\n",
      " 6   EndDifferent       71 non-null     object\n",
      " 7   NumSectionChords   254 non-null    int64 \n",
      " 8   nonDiatonicChords  254 non-null    int64 \n",
      " 9   extendedChords     254 non-null    int64 \n",
      "dtypes: int64(5), object(5)\n",
      "memory usage: 20.0+ KB\n"
     ]
    }
   ],
   "source": [
    "df.info()"
   ]
  },
  {
   "cell_type": "code",
   "execution_count": 20,
   "id": "8a1382ff-161a-4889-8d60-b9fd2d4eb98b",
   "metadata": {},
   "outputs": [
    {
     "data": {
      "text/plain": [
       "139"
      ]
     },
     "execution_count": 20,
     "metadata": {},
     "output_type": "execute_result"
    }
   ],
   "source": [
    "# 139 unique chord progressions\n",
    "\n",
    "df.Progression.unique().size"
   ]
  },
  {
   "cell_type": "code",
   "execution_count": null,
   "id": "928c4f62-2eab-4748-a40c-af0ca81e5c0d",
   "metadata": {},
   "outputs": [],
   "source": []
  }
 ],
 "metadata": {
  "kernelspec": {
   "display_name": "Python 3 (ipykernel)",
   "language": "python",
   "name": "python3"
  },
  "language_info": {
   "codemirror_mode": {
    "name": "ipython",
    "version": 3
   },
   "file_extension": ".py",
   "mimetype": "text/x-python",
   "name": "python",
   "nbconvert_exporter": "python",
   "pygments_lexer": "ipython3",
   "version": "3.12.6"
  }
 },
 "nbformat": 4,
 "nbformat_minor": 5
}

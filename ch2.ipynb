{
 "cells": [
  {
   "cell_type": "code",
   "execution_count": 4,
   "id": "696f2b75-22e9-4d25-8a38-a49a1d78a2ce",
   "metadata": {},
   "outputs": [
    {
     "name": "stdout",
     "output_type": "stream",
     "text": [
      "Jeremy\n"
     ]
    }
   ],
   "source": [
    "# 2.7\n",
    "print(\"Jeremy\")"
   ]
  },
  {
   "cell_type": "code",
   "execution_count": 5,
   "id": "d4444321-280e-4262-93ed-515d859ac413",
   "metadata": {},
   "outputs": [
    {
     "name": "stdout",
     "output_type": "stream",
     "text": [
      "Python's the best!\n"
     ]
    }
   ],
   "source": [
    "# 2.8\n",
    "print(\"Python's the best!\")"
   ]
  },
  {
   "cell_type": "code",
   "execution_count": 6,
   "id": "02eabb9e-06cf-41be-af29-2160aada0fd7",
   "metadata": {},
   "outputs": [
    {
     "name": "stdout",
     "output_type": "stream",
     "text": [
      "The cat said \"meow.\"\n"
     ]
    }
   ],
   "source": [
    "# 2.9\n",
    "print('The cat said \"meow.\"')"
   ]
  },
  {
   "cell_type": "code",
   "execution_count": 9,
   "id": "ab05fc2d-5d34-445a-be03-33a556b2e6ea",
   "metadata": {},
   "outputs": [
    {
     "data": {
      "text/plain": [
       "3.3"
      ]
     },
     "execution_count": 9,
     "metadata": {},
     "output_type": "execute_result"
    }
   ],
   "source": [
    "22 * 0.15"
   ]
  },
  {
   "cell_type": "code",
   "execution_count": null,
   "id": "43b93c38-1d98-4f14-a6c7-dbab9f0ec5c3",
   "metadata": {},
   "outputs": [],
   "source": []
  }
 ],
 "metadata": {
  "kernelspec": {
   "display_name": "Python 3 (ipykernel)",
   "language": "python",
   "name": "python3"
  },
  "language_info": {
   "codemirror_mode": {
    "name": "ipython",
    "version": 3
   },
   "file_extension": ".py",
   "mimetype": "text/x-python",
   "name": "python",
   "nbconvert_exporter": "python",
   "pygments_lexer": "ipython3",
   "version": "3.12.5"
  }
 },
 "nbformat": 4,
 "nbformat_minor": 5
}

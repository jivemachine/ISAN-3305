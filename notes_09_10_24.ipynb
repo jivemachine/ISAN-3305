{
 "cells": [
  {
   "cell_type": "markdown",
   "id": "3c7f0b07-65a1-43f2-a0d0-37727c7f7075",
   "metadata": {},
   "source": [
    "# chapter 2\n",
    "input, processing & output"
   ]
  },
  {
   "cell_type": "code",
   "execution_count": 1,
   "id": "fcf231cc-23c5-4d90-8c44-77cbf781feb9",
   "metadata": {},
   "outputs": [],
   "source": [
    "# import turtle as t\n",
    "# def draw_circle():\n",
    "#     screen = t.Screen()\n",
    "#     pen = t.Turtle()\n",
    "\n",
    "    \n",
    "#     pen.circle(90)\n",
    "\n",
    "# def draw_circle():\n",
    "#     screen = t.Screen()\n",
    "#     pen = t.Turtle()\n",
    "#     pen.circle(90)\n",
    "#     screen.mainloop()"
   ]
  },
  {
   "cell_type": "code",
   "execution_count": 2,
   "id": "920618be-ea46-4842-928a-058faebe62fc",
   "metadata": {},
   "outputs": [
    {
     "name": "stdout",
     "output_type": "stream",
     "text": [
      "420\n",
      "700\n",
      "1050\n"
     ]
    }
   ],
   "source": [
    "#distance = rate*time\n",
    "# we're going 70mph\n",
    "# 6,10,&15 hours\n",
    "\n",
    "hours = [6,10,15]\n",
    "SPEED = 70\n",
    "for hour in hours:\n",
    "    print(SPEED*hour)"
   ]
  },
  {
   "cell_type": "code",
   "execution_count": 3,
   "id": "b7e6bb45-7407-4d92-99c1-574dc9250466",
   "metadata": {},
   "outputs": [
    {
     "name": "stdout",
     "output_type": "stream",
     "text": [
      "the distance traveled is 420 miles in 6 hours.\n",
      "the distance traveled is 700 miles in 10 hours.\n",
      "the distance traveled is 1050 miles in 15 hours.\n"
     ]
    }
   ],
   "source": [
    "def distance_traveled(speed, time):\n",
    "    distance = speed * time\n",
    "    return distance\n",
    "    \n",
    "def display_dist(speed, time):\n",
    "    distance = distance_traveled(speed, time)\n",
    "    print(f\"the distance traveled is {distance} miles in {time} hours.\")\n",
    "\n",
    "hours = [6, 10,15]\n",
    "SPEED = 70\n",
    "for hour in hours:\n",
    "    display_dist(SPEED, hour)"
   ]
  },
  {
   "cell_type": "code",
   "execution_count": 4,
   "id": "dc4adde9-fbdd-42e9-81fa-53eb02192e9d",
   "metadata": {},
   "outputs": [],
   "source": [
    "def main():\n",
    "    speed = SPEED\n",
    "\n",
    "    time = 6\n",
    "    display_dist(speed, time)\n",
    "\n",
    "    time = 10\n",
    "    display_dist(speed, time)\n",
    "\n",
    "    time = 15\n",
    "    display_dist(speed, time)"
   ]
  },
  {
   "cell_type": "code",
   "execution_count": 5,
   "id": "7eb1c9e2-accf-4c3a-b80e-a79fe0144545",
   "metadata": {},
   "outputs": [
    {
     "name": "stdout",
     "output_type": "stream",
     "text": [
      "the distance traveled is 420 miles in 6 hours.\n",
      "the distance traveled is 700 miles in 10 hours.\n",
      "the distance traveled is 1050 miles in 15 hours.\n"
     ]
    }
   ],
   "source": [
    "main()"
   ]
  },
  {
   "cell_type": "code",
   "execution_count": null,
   "id": "ef3eccf9-a601-4a2e-b84f-f268d45a59a5",
   "metadata": {},
   "outputs": [],
   "source": []
  }
 ],
 "metadata": {
  "kernelspec": {
   "display_name": "Python 3 (ipykernel)",
   "language": "python",
   "name": "python3"
  },
  "language_info": {
   "codemirror_mode": {
    "name": "ipython",
    "version": 3
   },
   "file_extension": ".py",
   "mimetype": "text/x-python",
   "name": "python",
   "nbconvert_exporter": "python",
   "pygments_lexer": "ipython3",
   "version": "3.12.6"
  }
 },
 "nbformat": 4,
 "nbformat_minor": 5
}

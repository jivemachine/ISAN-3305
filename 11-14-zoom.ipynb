{
 "cells": [
  {
   "cell_type": "code",
   "execution_count": 2,
   "id": "cc7b8154-509f-4c41-b0d7-1be19b9e404f",
   "metadata": {},
   "outputs": [
    {
     "name": "stdout",
     "output_type": "stream",
     "text": [
      "{0: 0, 1: 1, 2: 4, 3: 9, 4: 16}\n"
     ]
    }
   ],
   "source": [
    "squares = {x: x**2 for x in range(5)}\n",
    "print(squares)"
   ]
  },
  {
   "cell_type": "code",
   "execution_count": null,
   "id": "cabb445f",
   "metadata": {},
   "outputs": [],
   "source": [
    "#large_cities = {k: v for k, v in populations.items() if v >2000}\n",
    "\n",
    "def display_menu():\n",
    "    print(\"\\nLibrary Managemtn System\")\n",
    "    print(\"1. Add a book.\")\n",
    "    print(\"2. Update book status.\")\n",
    "    print(\"3. retrieve a book.\")\n",
    "    print(\"4. delete a book\")\n",
    "    print(\"5. display all books\")\n",
    "    print(\"6. exit\")\n",
    "    return int(input(\"Enter your choice: \"))\n",
    "\n",
    "\n",
    "\n",
    "def main():\n",
    "    library = {}\n",
    "    \n",
    "   \n",
    "    while True:\n",
    "        choice = display_menu()\n",
    "        #  print(\"1. Add a book.\")\n",
    "        if choice == 1:\n",
    "            book_id = input(\"Enter the book ID please: \")\n",
    "            title = input(\"Title please: \")\n",
    "            library[book_id] = {'title': title, 'status': 'available'}\n",
    "            print(f\"Book '{title}' added.\")\n",
    "        \n",
    "        # print(\"2. Update book status.\")\n",
    "        elif choice == 2:\n",
    "            book_id = input(\"Enter the book ID please: \")\n",
    "            if book_id in library:\n",
    "                status = input(\"Enter new status (available/checked out): \")\n",
    "                library[book_id]['status'] = status\n",
    "                print(\"Book status updated.\")\n",
    "            else:\n",
    "                print(\"Book ID not found.\")\n",
    "                \n",
    "        # print(\"3. retrieve a book.\")\n",
    "        elif choice == 3:\n",
    "            book_id = input(\"Enter the book ID please: \")\n",
    "            if book_id in library:\n",
    "                print(f\"Book Title: {library[book_id]['title']}, Status: {library[book_id]['status']}\")\n",
    "            else:\n",
    "                print(\"Book ID not found.\")\n",
    "        \n",
    "        # print(\"4. delete a book\")\n",
    "        elif choice == 4:\n",
    "            book_id = input(\"Enter the book ID please: \")\n",
    "            if book_id in library:\n",
    "                del library[book_id]\n",
    "                print(\"Book deleted.\")\n",
    "            else:\n",
    "                print(\"Book ID not found.\")\n",
    "                \n",
    "        # print(\"5. display all books\")\n",
    "        elif choice == 5:\n",
    "            print(\"\\nAll Books in Library.items():\")\n",
    "            for book_id, details in library.items():\n",
    "                print(f\"ID: {book_id}, Title: {details['title']}, Status: {details['status']}\")\n",
    "        \n",
    "        # print(\"6. exit\")\n",
    "        elif choice == 6:\n",
    "            print(\"Exiting program.\")    \n",
    "            break\n",
    "        else: \n",
    "            print(\"invalid choice. try again.\")\n",
    "            \n",
    "            \n",
    "            \n",
    "main()"
   ]
  }
 ],
 "metadata": {
  "kernelspec": {
   "display_name": "Python 3 (ipykernel)",
   "language": "python",
   "name": "python3"
  },
  "language_info": {
   "codemirror_mode": {
    "name": "ipython",
    "version": 3
   },
   "file_extension": ".py",
   "mimetype": "text/x-python",
   "name": "python",
   "nbconvert_exporter": "python",
   "pygments_lexer": "ipython3",
   "version": "3.12.6"
  }
 },
 "nbformat": 4,
 "nbformat_minor": 5
}
